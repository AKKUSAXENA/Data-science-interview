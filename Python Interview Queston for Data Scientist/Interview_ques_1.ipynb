{
 "cells": [
  {
   "cell_type": "markdown",
   "id": "469a6206",
   "metadata": {},
   "source": [
    "# Convert Categorical Data into Numerical Format Using \n",
    "### One-Hot_Encoding\n",
    "### Without using special function"
   ]
  },
  {
   "cell_type": "code",
   "execution_count": 1,
   "id": "9cc307ec",
   "metadata": {},
   "outputs": [],
   "source": [
    "# import libraries\n",
    "import numpy as np\n",
    "import pandas as pd"
   ]
  },
  {
   "cell_type": "code",
   "execution_count": 2,
   "id": "c56eb76f",
   "metadata": {},
   "outputs": [],
   "source": [
    "## Created data\n",
    "\n",
    "student = [\"Anuj\",\"Mehul\",\"Harshit\",\"Abhiraj\"]\n",
    "states = [\"UP\",\"Delhi\",\"Mumbai\",\"Goa\"]\n",
    "marks = [\"70\",\"75\",\"80\",\"85\"]"
   ]
  },
  {
   "cell_type": "code",
   "execution_count": 3,
   "id": "76cad319",
   "metadata": {},
   "outputs": [
    {
     "data": {
      "text/plain": [
       "(4, 3)"
      ]
     },
     "execution_count": 3,
     "metadata": {},
     "output_type": "execute_result"
    }
   ],
   "source": [
    "df = pd.DataFrame(np.c_[student,states,marks],columns = [\"student\",\"states\",\"marks\"])\n",
    "df.shape"
   ]
  },
  {
   "cell_type": "code",
   "execution_count": 4,
   "id": "b27d09bf",
   "metadata": {},
   "outputs": [
    {
     "data": {
      "text/html": [
       "<div>\n",
       "<style scoped>\n",
       "    .dataframe tbody tr th:only-of-type {\n",
       "        vertical-align: middle;\n",
       "    }\n",
       "\n",
       "    .dataframe tbody tr th {\n",
       "        vertical-align: top;\n",
       "    }\n",
       "\n",
       "    .dataframe thead th {\n",
       "        text-align: right;\n",
       "    }\n",
       "</style>\n",
       "<table border=\"1\" class=\"dataframe\">\n",
       "  <thead>\n",
       "    <tr style=\"text-align: right;\">\n",
       "      <th></th>\n",
       "      <th>student</th>\n",
       "      <th>states</th>\n",
       "      <th>marks</th>\n",
       "    </tr>\n",
       "  </thead>\n",
       "  <tbody>\n",
       "    <tr>\n",
       "      <th>0</th>\n",
       "      <td>Anuj</td>\n",
       "      <td>UP</td>\n",
       "      <td>70</td>\n",
       "    </tr>\n",
       "    <tr>\n",
       "      <th>1</th>\n",
       "      <td>Mehul</td>\n",
       "      <td>Delhi</td>\n",
       "      <td>75</td>\n",
       "    </tr>\n",
       "    <tr>\n",
       "      <th>2</th>\n",
       "      <td>Harshit</td>\n",
       "      <td>Mumbai</td>\n",
       "      <td>80</td>\n",
       "    </tr>\n",
       "    <tr>\n",
       "      <th>3</th>\n",
       "      <td>Abhiraj</td>\n",
       "      <td>Goa</td>\n",
       "      <td>85</td>\n",
       "    </tr>\n",
       "  </tbody>\n",
       "</table>\n",
       "</div>"
      ],
      "text/plain": [
       "   student  states marks\n",
       "0     Anuj      UP    70\n",
       "1    Mehul   Delhi    75\n",
       "2  Harshit  Mumbai    80\n",
       "3  Abhiraj     Goa    85"
      ]
     },
     "execution_count": 4,
     "metadata": {},
     "output_type": "execute_result"
    }
   ],
   "source": [
    "df"
   ]
  },
  {
   "cell_type": "markdown",
   "id": "6be24dc1",
   "metadata": {},
   "source": [
    "# Solution One"
   ]
  },
  {
   "cell_type": "code",
   "execution_count": 5,
   "id": "ae5a7edb",
   "metadata": {},
   "outputs": [],
   "source": [
    "def oneHotEncoder(df_ohe , cat_col, columns):\n",
    "    for column in columns:\n",
    "        df_ohe[column] = np.nan\n",
    "    \n",
    "    for column in columns:\n",
    "        for i in range(df_ohe.shape[0]):\n",
    "            cat_val = df_ohe.loc[i,cat_col]\n",
    "            if cat_val == column:\n",
    "                df_ohe.loc[i,column] = 1\n",
    "            else:\n",
    "                df_ohe.loc[i,column] = 0\n",
    "    return df_ohe\n",
    "        "
   ]
  },
  {
   "cell_type": "code",
   "execution_count": 6,
   "id": "ddc06fcd",
   "metadata": {},
   "outputs": [],
   "source": [
    "cat_col = \"states\"\n",
    "columns = df[\"states\"].unique().tolist()\n",
    "df_one_hot_encoded_1 = oneHotEncoder(df,cat_col,columns)"
   ]
  },
  {
   "cell_type": "code",
   "execution_count": 7,
   "id": "1c09ab59",
   "metadata": {},
   "outputs": [
    {
     "data": {
      "text/html": [
       "<div>\n",
       "<style scoped>\n",
       "    .dataframe tbody tr th:only-of-type {\n",
       "        vertical-align: middle;\n",
       "    }\n",
       "\n",
       "    .dataframe tbody tr th {\n",
       "        vertical-align: top;\n",
       "    }\n",
       "\n",
       "    .dataframe thead th {\n",
       "        text-align: right;\n",
       "    }\n",
       "</style>\n",
       "<table border=\"1\" class=\"dataframe\">\n",
       "  <thead>\n",
       "    <tr style=\"text-align: right;\">\n",
       "      <th></th>\n",
       "      <th>student</th>\n",
       "      <th>states</th>\n",
       "      <th>marks</th>\n",
       "      <th>UP</th>\n",
       "      <th>Delhi</th>\n",
       "      <th>Mumbai</th>\n",
       "      <th>Goa</th>\n",
       "    </tr>\n",
       "  </thead>\n",
       "  <tbody>\n",
       "    <tr>\n",
       "      <th>0</th>\n",
       "      <td>Anuj</td>\n",
       "      <td>UP</td>\n",
       "      <td>70</td>\n",
       "      <td>1.0</td>\n",
       "      <td>0.0</td>\n",
       "      <td>0.0</td>\n",
       "      <td>0.0</td>\n",
       "    </tr>\n",
       "    <tr>\n",
       "      <th>1</th>\n",
       "      <td>Mehul</td>\n",
       "      <td>Delhi</td>\n",
       "      <td>75</td>\n",
       "      <td>0.0</td>\n",
       "      <td>1.0</td>\n",
       "      <td>0.0</td>\n",
       "      <td>0.0</td>\n",
       "    </tr>\n",
       "    <tr>\n",
       "      <th>2</th>\n",
       "      <td>Harshit</td>\n",
       "      <td>Mumbai</td>\n",
       "      <td>80</td>\n",
       "      <td>0.0</td>\n",
       "      <td>0.0</td>\n",
       "      <td>1.0</td>\n",
       "      <td>0.0</td>\n",
       "    </tr>\n",
       "    <tr>\n",
       "      <th>3</th>\n",
       "      <td>Abhiraj</td>\n",
       "      <td>Goa</td>\n",
       "      <td>85</td>\n",
       "      <td>0.0</td>\n",
       "      <td>0.0</td>\n",
       "      <td>0.0</td>\n",
       "      <td>1.0</td>\n",
       "    </tr>\n",
       "  </tbody>\n",
       "</table>\n",
       "</div>"
      ],
      "text/plain": [
       "   student  states marks   UP  Delhi  Mumbai  Goa\n",
       "0     Anuj      UP    70  1.0    0.0     0.0  0.0\n",
       "1    Mehul   Delhi    75  0.0    1.0     0.0  0.0\n",
       "2  Harshit  Mumbai    80  0.0    0.0     1.0  0.0\n",
       "3  Abhiraj     Goa    85  0.0    0.0     0.0  1.0"
      ]
     },
     "execution_count": 7,
     "metadata": {},
     "output_type": "execute_result"
    }
   ],
   "source": [
    "df_one_hot_encoded_1"
   ]
  },
  {
   "cell_type": "code",
   "execution_count": 8,
   "id": "d6727015",
   "metadata": {},
   "outputs": [],
   "source": [
    "cat_col = \"student\"\n",
    "columns = df[\"student\"].unique().tolist()\n",
    "df_one_hot_encoded_2 = oneHotEncoder(df,cat_col,columns)"
   ]
  },
  {
   "cell_type": "code",
   "execution_count": 9,
   "id": "dc818a2a",
   "metadata": {},
   "outputs": [
    {
     "data": {
      "text/html": [
       "<div>\n",
       "<style scoped>\n",
       "    .dataframe tbody tr th:only-of-type {\n",
       "        vertical-align: middle;\n",
       "    }\n",
       "\n",
       "    .dataframe tbody tr th {\n",
       "        vertical-align: top;\n",
       "    }\n",
       "\n",
       "    .dataframe thead th {\n",
       "        text-align: right;\n",
       "    }\n",
       "</style>\n",
       "<table border=\"1\" class=\"dataframe\">\n",
       "  <thead>\n",
       "    <tr style=\"text-align: right;\">\n",
       "      <th></th>\n",
       "      <th>student</th>\n",
       "      <th>states</th>\n",
       "      <th>marks</th>\n",
       "      <th>UP</th>\n",
       "      <th>Delhi</th>\n",
       "      <th>Mumbai</th>\n",
       "      <th>Goa</th>\n",
       "      <th>Anuj</th>\n",
       "      <th>Mehul</th>\n",
       "      <th>Harshit</th>\n",
       "      <th>Abhiraj</th>\n",
       "    </tr>\n",
       "  </thead>\n",
       "  <tbody>\n",
       "    <tr>\n",
       "      <th>0</th>\n",
       "      <td>Anuj</td>\n",
       "      <td>UP</td>\n",
       "      <td>70</td>\n",
       "      <td>1.0</td>\n",
       "      <td>0.0</td>\n",
       "      <td>0.0</td>\n",
       "      <td>0.0</td>\n",
       "      <td>1.0</td>\n",
       "      <td>0.0</td>\n",
       "      <td>0.0</td>\n",
       "      <td>0.0</td>\n",
       "    </tr>\n",
       "    <tr>\n",
       "      <th>1</th>\n",
       "      <td>Mehul</td>\n",
       "      <td>Delhi</td>\n",
       "      <td>75</td>\n",
       "      <td>0.0</td>\n",
       "      <td>1.0</td>\n",
       "      <td>0.0</td>\n",
       "      <td>0.0</td>\n",
       "      <td>0.0</td>\n",
       "      <td>1.0</td>\n",
       "      <td>0.0</td>\n",
       "      <td>0.0</td>\n",
       "    </tr>\n",
       "    <tr>\n",
       "      <th>2</th>\n",
       "      <td>Harshit</td>\n",
       "      <td>Mumbai</td>\n",
       "      <td>80</td>\n",
       "      <td>0.0</td>\n",
       "      <td>0.0</td>\n",
       "      <td>1.0</td>\n",
       "      <td>0.0</td>\n",
       "      <td>0.0</td>\n",
       "      <td>0.0</td>\n",
       "      <td>1.0</td>\n",
       "      <td>0.0</td>\n",
       "    </tr>\n",
       "    <tr>\n",
       "      <th>3</th>\n",
       "      <td>Abhiraj</td>\n",
       "      <td>Goa</td>\n",
       "      <td>85</td>\n",
       "      <td>0.0</td>\n",
       "      <td>0.0</td>\n",
       "      <td>0.0</td>\n",
       "      <td>1.0</td>\n",
       "      <td>0.0</td>\n",
       "      <td>0.0</td>\n",
       "      <td>0.0</td>\n",
       "      <td>1.0</td>\n",
       "    </tr>\n",
       "  </tbody>\n",
       "</table>\n",
       "</div>"
      ],
      "text/plain": [
       "   student  states marks   UP  Delhi  Mumbai  Goa  Anuj  Mehul  Harshit  \\\n",
       "0     Anuj      UP    70  1.0    0.0     0.0  0.0   1.0    0.0      0.0   \n",
       "1    Mehul   Delhi    75  0.0    1.0     0.0  0.0   0.0    1.0      0.0   \n",
       "2  Harshit  Mumbai    80  0.0    0.0     1.0  0.0   0.0    0.0      1.0   \n",
       "3  Abhiraj     Goa    85  0.0    0.0     0.0  1.0   0.0    0.0      0.0   \n",
       "\n",
       "   Abhiraj  \n",
       "0      0.0  \n",
       "1      0.0  \n",
       "2      0.0  \n",
       "3      1.0  "
      ]
     },
     "execution_count": 9,
     "metadata": {},
     "output_type": "execute_result"
    }
   ],
   "source": [
    "df_one_hot_encoded_2"
   ]
  },
  {
   "cell_type": "markdown",
   "id": "489f62f8",
   "metadata": {},
   "source": [
    "# Solution Second"
   ]
  },
  {
   "cell_type": "code",
   "execution_count": 11,
   "id": "8e51479d",
   "metadata": {},
   "outputs": [
    {
     "data": {
      "text/plain": [
       "(4, 3)"
      ]
     },
     "execution_count": 11,
     "metadata": {},
     "output_type": "execute_result"
    }
   ],
   "source": [
    "df2 = pd.DataFrame(np.c_[student,states,marks],columns = [\"student\",\"states\",\"marks\"])\n",
    "df2.shape"
   ]
  },
  {
   "cell_type": "code",
   "execution_count": 12,
   "id": "3f81e904",
   "metadata": {},
   "outputs": [],
   "source": [
    "for state in df2[\"states\"].unique().tolist():\n",
    "    df2[state] = np.where(df2[\"states\"]==state,1,0)"
   ]
  },
  {
   "cell_type": "code",
   "execution_count": 13,
   "id": "e70646ba",
   "metadata": {},
   "outputs": [
    {
     "data": {
      "text/html": [
       "<div>\n",
       "<style scoped>\n",
       "    .dataframe tbody tr th:only-of-type {\n",
       "        vertical-align: middle;\n",
       "    }\n",
       "\n",
       "    .dataframe tbody tr th {\n",
       "        vertical-align: top;\n",
       "    }\n",
       "\n",
       "    .dataframe thead th {\n",
       "        text-align: right;\n",
       "    }\n",
       "</style>\n",
       "<table border=\"1\" class=\"dataframe\">\n",
       "  <thead>\n",
       "    <tr style=\"text-align: right;\">\n",
       "      <th></th>\n",
       "      <th>student</th>\n",
       "      <th>states</th>\n",
       "      <th>marks</th>\n",
       "      <th>UP</th>\n",
       "      <th>Delhi</th>\n",
       "      <th>Mumbai</th>\n",
       "      <th>Goa</th>\n",
       "    </tr>\n",
       "  </thead>\n",
       "  <tbody>\n",
       "    <tr>\n",
       "      <th>0</th>\n",
       "      <td>Anuj</td>\n",
       "      <td>UP</td>\n",
       "      <td>70</td>\n",
       "      <td>1</td>\n",
       "      <td>0</td>\n",
       "      <td>0</td>\n",
       "      <td>0</td>\n",
       "    </tr>\n",
       "    <tr>\n",
       "      <th>1</th>\n",
       "      <td>Mehul</td>\n",
       "      <td>Delhi</td>\n",
       "      <td>75</td>\n",
       "      <td>0</td>\n",
       "      <td>1</td>\n",
       "      <td>0</td>\n",
       "      <td>0</td>\n",
       "    </tr>\n",
       "    <tr>\n",
       "      <th>2</th>\n",
       "      <td>Harshit</td>\n",
       "      <td>Mumbai</td>\n",
       "      <td>80</td>\n",
       "      <td>0</td>\n",
       "      <td>0</td>\n",
       "      <td>1</td>\n",
       "      <td>0</td>\n",
       "    </tr>\n",
       "    <tr>\n",
       "      <th>3</th>\n",
       "      <td>Abhiraj</td>\n",
       "      <td>Goa</td>\n",
       "      <td>85</td>\n",
       "      <td>0</td>\n",
       "      <td>0</td>\n",
       "      <td>0</td>\n",
       "      <td>1</td>\n",
       "    </tr>\n",
       "  </tbody>\n",
       "</table>\n",
       "</div>"
      ],
      "text/plain": [
       "   student  states marks  UP  Delhi  Mumbai  Goa\n",
       "0     Anuj      UP    70   1      0       0    0\n",
       "1    Mehul   Delhi    75   0      1       0    0\n",
       "2  Harshit  Mumbai    80   0      0       1    0\n",
       "3  Abhiraj     Goa    85   0      0       0    1"
      ]
     },
     "execution_count": 13,
     "metadata": {},
     "output_type": "execute_result"
    }
   ],
   "source": [
    "df2"
   ]
  },
  {
   "cell_type": "code",
   "execution_count": 14,
   "id": "1949d09b",
   "metadata": {},
   "outputs": [],
   "source": [
    "for student in df2[\"student\"].unique().tolist():\n",
    "    df2[student] = np.where(df2[\"student\"]==state,1,0)"
   ]
  },
  {
   "cell_type": "code",
   "execution_count": 15,
   "id": "a9602a64",
   "metadata": {},
   "outputs": [
    {
     "data": {
      "text/html": [
       "<div>\n",
       "<style scoped>\n",
       "    .dataframe tbody tr th:only-of-type {\n",
       "        vertical-align: middle;\n",
       "    }\n",
       "\n",
       "    .dataframe tbody tr th {\n",
       "        vertical-align: top;\n",
       "    }\n",
       "\n",
       "    .dataframe thead th {\n",
       "        text-align: right;\n",
       "    }\n",
       "</style>\n",
       "<table border=\"1\" class=\"dataframe\">\n",
       "  <thead>\n",
       "    <tr style=\"text-align: right;\">\n",
       "      <th></th>\n",
       "      <th>student</th>\n",
       "      <th>states</th>\n",
       "      <th>marks</th>\n",
       "      <th>UP</th>\n",
       "      <th>Delhi</th>\n",
       "      <th>Mumbai</th>\n",
       "      <th>Goa</th>\n",
       "      <th>Anuj</th>\n",
       "      <th>Mehul</th>\n",
       "      <th>Harshit</th>\n",
       "      <th>Abhiraj</th>\n",
       "    </tr>\n",
       "  </thead>\n",
       "  <tbody>\n",
       "    <tr>\n",
       "      <th>0</th>\n",
       "      <td>Anuj</td>\n",
       "      <td>UP</td>\n",
       "      <td>70</td>\n",
       "      <td>1</td>\n",
       "      <td>0</td>\n",
       "      <td>0</td>\n",
       "      <td>0</td>\n",
       "      <td>0</td>\n",
       "      <td>0</td>\n",
       "      <td>0</td>\n",
       "      <td>0</td>\n",
       "    </tr>\n",
       "    <tr>\n",
       "      <th>1</th>\n",
       "      <td>Mehul</td>\n",
       "      <td>Delhi</td>\n",
       "      <td>75</td>\n",
       "      <td>0</td>\n",
       "      <td>1</td>\n",
       "      <td>0</td>\n",
       "      <td>0</td>\n",
       "      <td>0</td>\n",
       "      <td>0</td>\n",
       "      <td>0</td>\n",
       "      <td>0</td>\n",
       "    </tr>\n",
       "    <tr>\n",
       "      <th>2</th>\n",
       "      <td>Harshit</td>\n",
       "      <td>Mumbai</td>\n",
       "      <td>80</td>\n",
       "      <td>0</td>\n",
       "      <td>0</td>\n",
       "      <td>1</td>\n",
       "      <td>0</td>\n",
       "      <td>0</td>\n",
       "      <td>0</td>\n",
       "      <td>0</td>\n",
       "      <td>0</td>\n",
       "    </tr>\n",
       "    <tr>\n",
       "      <th>3</th>\n",
       "      <td>Abhiraj</td>\n",
       "      <td>Goa</td>\n",
       "      <td>85</td>\n",
       "      <td>0</td>\n",
       "      <td>0</td>\n",
       "      <td>0</td>\n",
       "      <td>1</td>\n",
       "      <td>0</td>\n",
       "      <td>0</td>\n",
       "      <td>0</td>\n",
       "      <td>0</td>\n",
       "    </tr>\n",
       "  </tbody>\n",
       "</table>\n",
       "</div>"
      ],
      "text/plain": [
       "   student  states marks  UP  Delhi  Mumbai  Goa  Anuj  Mehul  Harshit  \\\n",
       "0     Anuj      UP    70   1      0       0    0     0      0        0   \n",
       "1    Mehul   Delhi    75   0      1       0    0     0      0        0   \n",
       "2  Harshit  Mumbai    80   0      0       1    0     0      0        0   \n",
       "3  Abhiraj     Goa    85   0      0       0    1     0      0        0   \n",
       "\n",
       "   Abhiraj  \n",
       "0        0  \n",
       "1        0  \n",
       "2        0  \n",
       "3        0  "
      ]
     },
     "execution_count": 15,
     "metadata": {},
     "output_type": "execute_result"
    }
   ],
   "source": [
    "df2"
   ]
  },
  {
   "cell_type": "code",
   "execution_count": null,
   "id": "68a12536",
   "metadata": {},
   "outputs": [],
   "source": []
  }
 ],
 "metadata": {
  "kernelspec": {
   "display_name": "Python 3 (ipykernel)",
   "language": "python",
   "name": "python3"
  },
  "language_info": {
   "codemirror_mode": {
    "name": "ipython",
    "version": 3
   },
   "file_extension": ".py",
   "mimetype": "text/x-python",
   "name": "python",
   "nbconvert_exporter": "python",
   "pygments_lexer": "ipython3",
   "version": "3.9.7"
  }
 },
 "nbformat": 4,
 "nbformat_minor": 5
}
