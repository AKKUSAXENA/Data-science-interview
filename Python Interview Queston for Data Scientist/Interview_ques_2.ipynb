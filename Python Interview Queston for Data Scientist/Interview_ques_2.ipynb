{
 "cells": [
  {
   "cell_type": "markdown",
   "id": "94f0c8dc",
   "metadata": {},
   "source": [
    "# Get the second last Max Numner from list"
   ]
  },
  {
   "cell_type": "code",
   "execution_count": 28,
   "id": "e8395574",
   "metadata": {},
   "outputs": [],
   "source": [
    "def getSecondLastMaximum():\n",
    "    len_list = int(input(\"Enter the length of list: \"))\n",
    "    input_list = []\n",
    "    \n",
    "    for i in range(len_list):\n",
    "        input_list.append(int(input(f\"Enter the{i+1} element of the list: \")))\n",
    "    print(f\"Give list: {input_list}\")\n",
    "    \n",
    "    input_list.sort()\n",
    "    max_element_count = input_list.count(input_list[-1])\n",
    "    \n",
    "    if len(input_list)>=2:\n",
    "        if len(input_list)==2 & max_element_count==2:\n",
    "            print(\"given list length is 2 and all items at are same: \")\n",
    "        else:\n",
    "            print(f\"Second last max number from given list: {input_list[- max_element_count - 1]}\")\n",
    "    else:\n",
    "        print(\"Then length of the given list is less than 2\")"
   ]
  },
  {
   "cell_type": "code",
   "execution_count": 29,
   "id": "f5553ffb",
   "metadata": {},
   "outputs": [],
   "source": [
    "# Test_1 = [2]\n",
    "# Test_1 = [2,2]\n",
    "# Test_1 = [2,4,4,3]\n",
    "# Test_1 = [2,4,3,7,8,99,3,99,0]\n",
    "# Test_1 = [2,4,3]"
   ]
  },
  {
   "cell_type": "code",
   "execution_count": 30,
   "id": "d66c6a01",
   "metadata": {},
   "outputs": [
    {
     "name": "stdout",
     "output_type": "stream",
     "text": [
      "Enter the length of list: 1\n",
      "Enter the1 element of the list: 2\n",
      "Give list: [2]\n",
      "Then length of the given list is less than 2\n"
     ]
    }
   ],
   "source": [
    "getSecondLastMaximum()"
   ]
  },
  {
   "cell_type": "code",
   "execution_count": 31,
   "id": "5e4eb525",
   "metadata": {},
   "outputs": [
    {
     "name": "stdout",
     "output_type": "stream",
     "text": [
      "Enter the length of list: 2\n",
      "Enter the1 element of the list: 2\n",
      "Enter the2 element of the list: 2\n",
      "Give list: [2, 2]\n",
      "given list length is 2 and all items at are same: \n"
     ]
    }
   ],
   "source": [
    "getSecondLastMaximum()"
   ]
  },
  {
   "cell_type": "code",
   "execution_count": 32,
   "id": "ccde3841",
   "metadata": {},
   "outputs": [
    {
     "name": "stdout",
     "output_type": "stream",
     "text": [
      "Enter the length of list: 4\n",
      "Enter the1 element of the list: 2\n",
      "Enter the2 element of the list: 4\n",
      "Enter the3 element of the list: 4\n",
      "Enter the4 element of the list: 3\n",
      "Give list: [2, 4, 4, 3]\n",
      "Second last max number from given list: 3\n"
     ]
    }
   ],
   "source": [
    "getSecondLastMaximum()"
   ]
  },
  {
   "cell_type": "code",
   "execution_count": 33,
   "id": "0a91a813",
   "metadata": {},
   "outputs": [
    {
     "name": "stdout",
     "output_type": "stream",
     "text": [
      "Enter the length of list: 9\n",
      "Enter the1 element of the list: 2\n",
      "Enter the2 element of the list: 4\n",
      "Enter the3 element of the list: 3\n",
      "Enter the4 element of the list: 7\n",
      "Enter the5 element of the list: 8\n",
      "Enter the6 element of the list: 99\n",
      "Enter the7 element of the list: 3\n",
      "Enter the8 element of the list: 99\n",
      "Enter the9 element of the list: 0\n",
      "Give list: [2, 4, 3, 7, 8, 99, 3, 99, 0]\n",
      "Second last max number from given list: 8\n"
     ]
    }
   ],
   "source": [
    "getSecondLastMaximum()"
   ]
  },
  {
   "cell_type": "code",
   "execution_count": 34,
   "id": "a3ea9cda",
   "metadata": {},
   "outputs": [
    {
     "name": "stdout",
     "output_type": "stream",
     "text": [
      "Enter the length of list: 3\n",
      "Enter the1 element of the list: 2\n",
      "Enter the2 element of the list: 4\n",
      "Enter the3 element of the list: 3\n",
      "Give list: [2, 4, 3]\n",
      "Second last max number from given list: 3\n"
     ]
    }
   ],
   "source": [
    "getSecondLastMaximum()"
   ]
  },
  {
   "cell_type": "code",
   "execution_count": null,
   "id": "a23355ad",
   "metadata": {},
   "outputs": [],
   "source": []
  },
  {
   "cell_type": "code",
   "execution_count": null,
   "id": "a3f58c0a",
   "metadata": {},
   "outputs": [],
   "source": []
  }
 ],
 "metadata": {
  "kernelspec": {
   "display_name": "Python 3 (ipykernel)",
   "language": "python",
   "name": "python3"
  },
  "language_info": {
   "codemirror_mode": {
    "name": "ipython",
    "version": 3
   },
   "file_extension": ".py",
   "mimetype": "text/x-python",
   "name": "python",
   "nbconvert_exporter": "python",
   "pygments_lexer": "ipython3",
   "version": "3.9.7"
  }
 },
 "nbformat": 4,
 "nbformat_minor": 5
}
